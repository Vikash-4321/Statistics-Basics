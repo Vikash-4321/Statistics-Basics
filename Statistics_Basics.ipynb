{
  "nbformat": 4,
  "nbformat_minor": 0,
  "metadata": {
    "colab": {
      "provenance": []
    },
    "kernelspec": {
      "name": "python3",
      "display_name": "Python 3"
    },
    "language_info": {
      "name": "python"
    }
  },
  "cells": [
    {
      "cell_type": "markdown",
      "source": [
        "# Statistics Basics Assignment\n"
      ],
      "metadata": {
        "id": "-woYGHpgNaPc"
      }
    },
    {
      "cell_type": "markdown",
      "source": [
        "Q1.  What is the difference between descriptive statistics and inferential\n",
        "statistics? Explain with examples.\n",
        "   - The difference between descriptive statistics and inferential statistics lies in their purpose and application in analyzing data.\n",
        "      1.Descriptive Statistics\n",
        "      Definition:\n",
        "      Descriptive statistics are used to summarize, organize, and present data in an informative way. They describe the main features of a dataset without making predictions or generalizations beyond the data at hand.\n",
        "\n",
        "      Example:\n",
        "      Suppose a teacher calculates the average score of her class on a math test:\n",
        "      Mean score = 78\n",
        "      Median score = 80\n",
        "      Standard deviation = 5\n",
        "      \n",
        "      2. Inferential Statistics\n",
        "\n",
        "       Definition:\n",
        "       Inferential statistics use a sample of data to make predictions, generalizations, or conclusions about a larger population. It includes methods that assess reliability and uncertainty in conclusions.\n",
        "\n",
        "        Example:\n",
        "        A researcher wants to know if a new drug is effective for the whole population. He tests it on a sample of 100 patients and finds that it reduces symptoms in 90% of them. He then uses inferential statistics to estimate the effectiveness of the drug in the entire population, and determine whether the observed effect is statistically significant.\n"
      ],
      "metadata": {
        "id": "CMZ-oV5-NlYR"
      }
    },
    {
      "cell_type": "markdown",
      "source": [
        "Q2. What is sampling in statistics? Explain the differences between random\n",
        "and stratified sampling.\n",
        "   - Sampling is the process of selecting a subset (sample) from a larger population to analyze and make inferences about the entire population. Since studying an entire population can be time-consuming, expensive, or impractical, sampling allows researchers to gather data more efficiently while still obtaining reliable insights.\n",
        "\n",
        "   1. Random Sampling (Simple Random Sampling)\n",
        "     In random sampling, every individual in the population has an equal chance of being selected. Selection is completely by chance, often using random number generators or drawing lots.\n",
        "\n",
        "     2.Stratified Sampling-\n",
        "       In stratified sampling, the population is first divided into distinct groups (called strata) based on a characteristic (e.g., age, gender, income level), and then random samples are taken from each group proportionally or equally."
      ],
      "metadata": {
        "id": "5awcxsbQPYNv"
      }
    },
    {
      "cell_type": "markdown",
      "source": [
        "Q3. Define mean, median, and mode. Explain why these measures of central\n",
        "tendency are important.\n",
        "   - Mean, median, and mode are three commonly used measures of central tendency — they help us understand the \"center\" or typical value of a dataset.\n",
        "\n",
        "    Mean (Average)\n",
        "     The mean is the sum of all values divided by the number of values.\n",
        "\n",
        "      Mean=Sum of all data pointsNumber of data points\n",
        "      Mean=\n",
        "       Number of data points\n",
        "       Sum of all data points\n",
        "\t​\n",
        "      Median\n",
        "\n",
        "      The median is the middle value in a sorted dataset.\n",
        "       If the number of observations is odd, it is the middle number.\n",
        "       If even, it is the average of the two middle numbers.\n",
        "\n",
        "       Mode\n",
        "\n",
        "      The mode is the value that appears most frequently in the dataset.\n",
        "      A dataset may have no mode, one mode, or multiple modes.\n",
        "\n",
        "      Why These Measures Are Important\n",
        "      Measure\tImportance\n",
        "     Mean\t- Gives an overall average\n",
        "            - Easy to calculate\n",
        "             - Useful for further statistical analysis (e.g., standard deviation)\n",
        "    Median\t- Represents the center of the data\n",
        "              - Not affected by extreme values (outliers)\n",
        "              - Best for skewed data\n",
        "    Mode\t- Shows the most common value(s)\n",
        "             Useful for categorical data\n",
        "            - Helps identify peaks in data distribution"
      ],
      "metadata": {
        "id": "HGXy5D4FPyf-"
      }
    },
    {
      "cell_type": "markdown",
      "source": [
        "Q4.  Explain skewness and kurtosis. What does a positive skew imply about the\n",
        "data?\n",
        "  - **Skewness**\n",
        "\n",
        "      Definition: Skewness measures the asymmetry of a probability distribution (how lopsided it is).\n",
        "\n",
        "       Types:\n",
        "\n",
        "       Zero skewness: Data is symmetric (e.g., normal distribution).\n",
        "\n",
        "       Positive skew (right-skewed): Tail on the right side is longer → most values are clustered on the left, with a few very large values pulling the mean upward.\n",
        "\n",
        "       Negative skew (left-skewed): Tail on the left side is longer → most values are clustered on the right, with a few very small values pulling the mean downward.\n",
        "\n",
        "👉 So, a positive skew implies:\n",
        "\n",
        "      Data has a long right tail.\n",
        "\n",
        "     Mean > Median > Mode.\n",
        "\n",
        "2. **Kurtosis**\n",
        "\n",
        "    Definition: Kurtosis measures the “tailedness” (heaviness of tails and peakedness) of the distribution compared to a normal distribution.\n",
        "\n",
        "    Types:\n",
        "\n",
        "    Mesokurtic (kurtosis ≈ 3): Similar to normal distribution.\n",
        "\n",
        "   Leptokurtic (kurtosis > 3): Heavy tails, sharper peak → more outliers.\n",
        "\n",
        "   Platykurtic (kurtosis < 3): Light tails, flatter peak → fewer outliers.\n",
        "\n",
        "👉 High kurtosis = more extreme values (outliers).\n",
        "👉 Low kurtosis = fewer extreme values.\n",
        "\n",
        "✅ Summary:\n",
        "\n",
        "Skewness → tells us about symmetry.\n",
        "\n",
        "Kurtosis → tells us about peak & tails.\n",
        "\n",
        "Positive skew → data is right-skewed, with long right tail and mean > median."
      ],
      "metadata": {
        "id": "B-9jtQ0TRFp3"
      }
    },
    {
      "cell_type": "markdown",
      "source": [
        "Q5. Implement a Python program to compute the mean, median, and mode of\n",
        "a given list of numbers.\n",
        "numbers = [12, 15, 12, 18, 19, 12, 20, 22, 19, 19, 24, 24, 24, 26, 28]"
      ],
      "metadata": {
        "id": "YUl_KHbgR-Nw"
      }
    },
    {
      "cell_type": "code",
      "source": [
        "import statistics as stats\n",
        "\n",
        "# Given list of numbers\n",
        "numbers = [12, 15, 12, 18, 19, 12, 20, 22, 19, 19, 24, 24, 24, 26, 28]\n",
        "\n",
        "# Calculate mean, median, and mode\n",
        "mean_value = stats.mean(numbers)\n",
        "median_value = stats.median(numbers)\n",
        "mode_value = stats.mode(numbers)\n",
        "\n",
        "# Display results\n",
        "print(\"Mean:\", mean_value)\n",
        "print(\"Median:\", median_value)\n",
        "print(\"Mode:\", mode_value)"
      ],
      "metadata": {
        "colab": {
          "base_uri": "https://localhost:8080/"
        },
        "id": "okpB9G4OST-m",
        "outputId": "0b3ac78b-6c0a-455c-b8c7-121590c9bd3f"
      },
      "execution_count": 1,
      "outputs": [
        {
          "output_type": "stream",
          "name": "stdout",
          "text": [
            "Mean: 19.6\n",
            "Median: 19\n",
            "Mode: 12\n"
          ]
        }
      ]
    },
    {
      "cell_type": "markdown",
      "source": [
        "Q6.  Compute the covariance and correlation coefficient between the following\n",
        "two datasets provided as lists in Python:\n",
        "list_x = [10, 20, 30, 40, 50]\n",
        "list_y = [15, 25, 35, 45, 60]\n"
      ],
      "metadata": {
        "id": "moLzafPvSggs"
      }
    },
    {
      "cell_type": "code",
      "source": [
        "import numpy as np\n",
        "\n",
        "# Given datasets\n",
        "list_x = [10, 20, 30, 40, 50]\n",
        "list_y = [15, 25, 35, 45, 60]\n",
        "\n",
        "# Convert to numpy arrays\n",
        "x = np.array(list_x)\n",
        "y = np.array(list_y)\n",
        "\n",
        "# Covariance matrix\n",
        "cov_matrix = np.cov(x, y, bias=False)  # sample covariance\n",
        "cov_xy = cov_matrix[0, 1]\n",
        "\n",
        "# Correlation coefficient\n",
        "corr_matrix = np.corrcoef(x, y)\n",
        "corr_xy = corr_matrix[0, 1]\n",
        "\n",
        "# Display results\n",
        "print(\"Covariance:\", cov_xy)\n",
        "print(\"Correlation Coefficient:\", corr_xy)\n"
      ],
      "metadata": {
        "colab": {
          "base_uri": "https://localhost:8080/"
        },
        "id": "t0c3AY6SSocW",
        "outputId": "b62f1970-a845-4bdf-baca-1ec7e0036e5a"
      },
      "execution_count": 2,
      "outputs": [
        {
          "output_type": "stream",
          "name": "stdout",
          "text": [
            "Covariance: 275.0\n",
            "Correlation Coefficient: 0.995893206467704\n"
          ]
        }
      ]
    },
    {
      "cell_type": "markdown",
      "source": [
        "Q7.  Write a Python script to draw a boxplot for the following numeric list and\n",
        "identify its outliers. Explain the result:\n",
        "data = [12, 14, 14, 15, 18, 19, 19, 21, 22, 22, 23, 23, 24, 26, 29, 35]"
      ],
      "metadata": {
        "id": "ydKi0llZStSF"
      }
    },
    {
      "cell_type": "code",
      "source": [
        "import matplotlib.pyplot as plt\n",
        "import numpy as np\n",
        "\n",
        "# Given data\n",
        "data = [12, 14, 14, 15, 18, 19, 19, 21, 22, 22, 23, 23, 24, 26, 29, 35]\n",
        "\n",
        "# Draw boxplot\n",
        "plt.boxplot(data, vert=False, patch_artist=True)\n",
        "plt.title(\"Boxplot of Data with Outliers\")\n",
        "plt.xlabel(\"Values\")\n",
        "plt.show()\n",
        "\n",
        "# ---- Outlier detection using IQR ----\n",
        "Q1 = np.percentile(data, 25)   # First quartile (25%)\n",
        "Q3 = np.percentile(data, 75)   # Third quartile (75%)\n",
        "IQR = Q3 - Q1                  # Interquartile Range\n",
        "\n",
        "# Outlier boundaries\n",
        "lower_bound = Q1 - 1.5 * IQR\n",
        "upper_bound = Q3 + 1.5 * IQR\n",
        "\n",
        "# Identify outliers\n",
        "outliers = [x for x in data if x < lower_bound or x > upper_bound]\n",
        "\n",
        "print(\"Q1:\", Q1)\n",
        "print(\"Q3:\", Q3)\n",
        "print(\"IQR:\", IQR)\n",
        "print(\"Lower Bound:\", lower_bound)\n",
        "print(\"Upper Bound:\", upper_bound)\n",
        "print(\"Outliers:\", outliers)\n"
      ],
      "metadata": {
        "colab": {
          "base_uri": "https://localhost:8080/",
          "height": 576
        },
        "id": "RsgtjYkqSxLu",
        "outputId": "c3acc028-e8fe-437d-b095-f714e0e50082"
      },
      "execution_count": 3,
      "outputs": [
        {
          "output_type": "display_data",
          "data": {
            "text/plain": [
              "<Figure size 640x480 with 1 Axes>"
            ],
            "image/png": "[encoded data removed]"
          },
          "metadata": {}
        },
        {
          "output_type": "stream",
          "name": "stdout",
          "text": [
            "Q1: 17.25\n",
            "Q3: 23.25\n",
            "IQR: 6.0\n",
            "Lower Bound: 8.25\n",
            "Upper Bound: 32.25\n",
            "Outliers: [35]\n"
          ]
        }
      ]
    },
    {
      "cell_type": "markdown",
      "source": [
        "Q8.  You are working as a data analyst in an e-commerce company. The\n",
        "marketing team wants to know if there is a relationship between advertising spend and\n",
        "daily sales.\n",
        "● Explain how you would use covariance and correlation to explore this\n",
        "relationship.\n",
        "● Write Python code to compute the correlation between the two lists:\n",
        "advertising_spend = [200, 250, 300, 400, 500]\n",
        "daily_sales = [2200, 2450, 2750, 3200, 4000]\n",
        "\n",
        "  -   How to Use Covariance and Correlation\n",
        "\n",
        "      **Covariance**:\n",
        "\n",
        "        Measures the direction of the relationship between two variables.\n",
        "        If covariance > 0 → as advertising spend increases, daily sales also tend to increase.\n",
        "        If covariance < 0 → as advertising spend increases, daily sales tend to decrease.\n",
        "       But covariance alone doesn’t tell us about the strength of the relationship.\n",
        "\n",
        "**Correlation** (Pearson’s r):\n",
        "\n",
        "     Standardized version of covariance.\n",
        "\n",
        "      Always lies between –1 and +1.\n",
        "\n",
        "     +1 → perfect positive relationship.\n",
        "     –1 → perfect negative relationship.\n",
        "     0 → no linear relationship.\n"
      ],
      "metadata": {
        "id": "4y3ArqW7TBv4"
      }
    },
    {
      "cell_type": "code",
      "source": [
        "import numpy as np\n",
        "\n",
        "# Given data\n",
        "advertising_spend = [200, 250, 300, 400, 500]\n",
        "daily_sales = [2200, 2450, 2750, 3200, 4000]\n",
        "\n",
        "# Convert to numpy arrays\n",
        "x = np.array(advertising_spend)\n",
        "y = np.array(daily_sales)\n",
        "\n",
        "# Covariance\n",
        "cov_matrix = np.cov(x, y, bias=False)\n",
        "cov_xy = cov_matrix[0, 1]\n",
        "\n",
        "# Correlation coefficient\n",
        "corr_matrix = np.corrcoef(x, y)\n",
        "corr_xy = corr_matrix[0, 1]\n",
        "\n",
        "print(\"Covariance:\", cov_xy)\n",
        "print(\"Correlation Coefficient:\", corr_xy)\n"
      ],
      "metadata": {
        "colab": {
          "base_uri": "https://localhost:8080/"
        },
        "id": "1K1aN68ITDau",
        "outputId": "6765ed9a-4ff4-42d4-f586-4c9aa6f5cf2d"
      },
      "execution_count": 4,
      "outputs": [
        {
          "output_type": "stream",
          "name": "stdout",
          "text": [
            "Covariance: 84875.0\n",
            "Correlation Coefficient: 0.9935824101653329\n"
          ]
        }
      ]
    },
    {
      "cell_type": "markdown",
      "source": [
        "Q9.  Your team has collected customer satisfaction survey data on a scale of\n",
        "1-10 and wants to understand its distribution before launching a new product.\n",
        "● Explain which summary statistics and visualizations (e.g. mean, standard\n",
        "deviation, histogram) you’d use.\n",
        "● Write Python code to create a histogram using Matplotlib for the survey data:\n",
        "survey_scores = [7, 8, 5, 9, 6, 7, 8, 9, 10, 4, 7, 6, 9, 8, 7]\n",
        "    \n",
        "    - How to Understand the Distribution\n",
        "\n",
        "To explore customer satisfaction survey data (scale 1–10), I’d use:\n",
        "\n",
        "Summary Statistics\n",
        "\n",
        "Mean → average satisfaction.\n",
        "\n",
        "Median → central tendency (less sensitive to outliers).\n",
        "\n",
        "Mode → most common score.\n",
        "\n",
        "Standard Deviation (SD) → how spread out the scores are.\n",
        "\n",
        "Minimum & Maximum → range of satisfaction.\n",
        "\n",
        "Visualizations\n",
        "\n",
        "Histogram → shows frequency distribution of scores.\n",
        "\n",
        "Boxplot → highlights spread and potential outliers.\n",
        "\n",
        "Bar chart of counts (optional) → useful since data is on an integer scale (1–10).\n",
        "\n",
        "These give both numerical and visual understanding of how customers rated satisfaction."
      ],
      "metadata": {
        "id": "8kW6hRW2TpOI"
      }
    },
    {
      "cell_type": "code",
      "source": [
        "import matplotlib.pyplot as plt\n",
        "import numpy as np\n",
        "import statistics as stats\n",
        "\n",
        "# Survey data\n",
        "survey_scores = [7, 8, 5, 9, 6, 7, 8, 9, 10, 4, 7, 6, 9, 8, 7]\n",
        "\n",
        "# ---- Summary statistics ----\n",
        "mean_val = stats.mean(survey_scores)\n",
        "median_val = stats.median(survey_scores)\n",
        "mode_val = stats.mode(survey_scores)\n",
        "std_dev = np.std(survey_scores, ddof=1)  # sample standard deviation\n",
        "\n",
        "print(\"Mean:\", mean_val)\n",
        "print(\"Median:\", median_val)\n",
        "print(\"Mode:\", mode_val)\n",
        "print(\"Standard Deviation:\", round(std_dev, 2))\n",
        "print(\"Min:\", min(survey_scores), \"Max:\", max(survey_scores))\n",
        "\n",
        "# ---- Histogram ----\n",
        "plt.hist(survey_scores, bins=range(1, 12), edgecolor='black', alpha=0.7)\n",
        "plt.title(\"Customer Satisfaction Survey Distribution\")\n",
        "plt.xlabel(\"Satisfaction Score (1-10)\")\n",
        "plt.ylabel(\"Frequency\")\n",
        "plt.xticks(range(1, 11))  # Show all integer scores\n",
        "plt.show()\n"
      ],
      "metadata": {
        "colab": {
          "base_uri": "https://localhost:8080/",
          "height": 559
        },
        "id": "a5HctfBzT7lw",
        "outputId": "c1cee1e0-1724-415f-f310-a3b00e314117"
      },
      "execution_count": 5,
      "outputs": [
        {
          "output_type": "stream",
          "name": "stdout",
          "text": [
            "Mean: 7.333333333333333\n",
            "Median: 7\n",
            "Mode: 7\n",
            "Standard Deviation: 1.63\n",
            "Min: 4 Max: 10\n"
          ]
        },
        {
          "output_type": "display_data",
          "data": {
            "text/plain": [
              "<Figure size 640x480 with 1 Axes>"
            ],
            "image/png": "[encoded data removed]"
          },
          "metadata": {}
        }
      ]
    }
  ]
}